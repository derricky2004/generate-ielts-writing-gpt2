{
 "cells": [
  {
   "cell_type": "markdown",
   "metadata": {},
   "source": [
    "#### Import Libs"
   ]
  },
  {
   "cell_type": "code",
   "execution_count": 5,
   "metadata": {},
   "outputs": [
    {
     "name": "stderr",
     "output_type": "stream",
     "text": [
      "/workspace/ai_intern/anaconda3/envs/kyky/lib/python3.9/site-packages/tqdm/auto.py:21: TqdmWarning: IProgress not found. Please update jupyter and ipywidgets. See https://ipywidgets.readthedocs.io/en/stable/user_install.html\n",
      "  from .autonotebook import tqdm as notebook_tqdm\n",
      "[nltk_data] Downloading package punkt to /home/ai_intern/nltk_data...\n",
      "[nltk_data]   Package punkt is already up-to-date!\n"
     ]
    },
    {
     "data": {
      "text/plain": [
       "True"
      ]
     },
     "execution_count": 5,
     "metadata": {},
     "output_type": "execute_result"
    }
   ],
   "source": [
    "import torch\n",
    "from transformers import GPT2LMHeadModel, GPT2Tokenizer\n",
    "import os\n",
    "import time\n",
    "import datetime\n",
    "#from google.colab import drive\n",
    "\n",
    "import pandas as pd\n",
    "import seaborn as sns\n",
    "import numpy as np\n",
    "import random\n",
    "\n",
    "import matplotlib.pyplot as plt\n",
    "%matplotlib inline\n",
    "\n",
    "import torch\n",
    "from torch.utils.data import Dataset, DataLoader, random_split, RandomSampler, SequentialSampler\n",
    "torch.manual_seed(42)\n",
    "\n",
    "from transformers import GPT2LMHeadModel,  GPT2Tokenizer, GPT2Config, GPT2LMHeadModel\n",
    "from transformers import AdamW, get_linear_schedule_with_warmup\n",
    "\n",
    "import nltk\n",
    "nltk.download('punkt')\n"
   ]
  },
  {
   "cell_type": "markdown",
   "metadata": {},
   "source": [
    "#### Import datasets & Read data"
   ]
  },
  {
   "cell_type": "code",
   "execution_count": 6,
   "metadata": {},
   "outputs": [
    {
     "name": "stdout",
     "output_type": "stream",
     "text": [
      "Poverty represents a worldwide crisis. It is the ugliest epidemic in a region, which could infect countries in the most debilitating ways. To tackle this issue, rich countries need to help those in need and give a hand when possible. I agree that there are several ways of aiding poor countries other than financial aid, like providing countries in need with engineers, workers, and soldiers who would build infrastructure. Building universities, hospitals, and roadways. By having a solid infrastructure, poor countries would be able to monetise their profits and build a stronger and more profitable economy which would help them in the long term. Once unprivilged countries find their niche, the major hurdle would be passed and would definitely pave the way for much brighter future. However, I do disagree that financial aid does not solve poverty, it does if used properly and efficiently. The most determining factor if financial aid would be the way to go, is by identifying what type of poor countries' representative are dealing with. Some countries will have a responsible leader and some will not, with that being said, implementing a strategy, to distinguish responsible leaders from others, would tailor the type of aid rich countries could use. An example, A clear report and constant observation would be applied to track the progress and how this type of aid is being monetized. In summary, types of aid varies from country to another, and tailoring the type of aid is of paramount importance to solve this problem that had huge toll on poor countries.\n",
      "\n",
      "---\n",
      "\n",
      "Human beings are facing many challenges nowadays. Poverty is always an critical topic among countries, especially the poverty in developing countries. Developed countries frequently offer financial support to poor countries but the poverty still exist. Experts are arguing that developed countries should consider other solutions to help solve the poverty issue. I believe this is a much better direction compare to money support only.\n",
      "Money is essential to many factors like food, contruction and hospital. With money provided by developed countries, govenment can improve the inforstructure, supporting poor family with food, building more houses for the poor people, builing more schools to support children's education, which is critical for people to get out of poverty.\n",
      "But money cannot solve everything. The poverty caused by many reasons like lacking of resource and experienced governor. None of them could be solved by simply offering money to the goverment. Besides, money could cause a bad habit to the governor, they may reply on the financial support too much. If the financial support ended someday, which could happen anytime in the current circurmestance, it will cause big trouble again.\n",
      "Devevloped countries should focus on a sophicated solution instead of just providing money. For example, they can help poor countries to build manufacturing industry, and give certain subsides for the customer who buy directly from them. Developed countries also can send experienced instructor to help governer in poor countries build a better government system to improve the efficiency of governance, authority of justice, to make sure company feel safe to invest in these developing counties, which could have a long term benifit for the people there.\n",
      "Overall, I am agree that money could help to solve the poverty but without other support from different functions, it may not the best solution for poverty.\n",
      "\n",
      "---\n",
      "\n"
     ]
    }
   ],
   "source": [
    "# Đọc file .txt\n",
    "file_path = '/workspace/ai_intern/Lucky/Writing IELTS_Task2/writing_task_2.txt'\n",
    "with open(file_path, 'r', encoding='utf-8') as file:\n",
    "    text = file.read()\n",
    "\n",
    "# In ra nội dung file (in một phần để tránh quá dài)\n",
    "print(text[:3500])  # In 3500 ký tự đầu tiên\n"
   ]
  },
  {
   "cell_type": "markdown",
   "metadata": {},
   "source": [
    "#### Data Preprocessing"
   ]
  },
  {
   "cell_type": "code",
   "execution_count": 7,
   "metadata": {},
   "outputs": [
    {
     "data": {
      "image/png": "[encoded data removed]",
      "text/plain": [
       "<Figure size 640x480 with 1 Axes>"
      ]
     },
     "metadata": {},
     "output_type": "display_data"
    },
    {
     "name": "stdout",
     "output_type": "stream",
     "text": [
      "Độ dài trung bình của các bài viết: 346.5081967213115\n"
     ]
    }
   ],
   "source": [
    "# Tách các bài viết dựa trên delimiter \"---\"\n",
    "essays = text.split(\"\\n\\n---\\n\\n\")\n",
    "\n",
    "# Tokenize các bài viết\n",
    "tokenized_essays = [nltk.word_tokenize(essay) for essay in essays]\n",
    "\n",
    "# Tính toán độ dài của các bài viết\n",
    "doc_lengths = [len(essay) for essay in tokenized_essays]\n",
    "\n",
    "# Vẽ biểu đồ độ dài của các bài viết\n",
    "plt.hist(doc_lengths, bins=50, alpha=0.75)\n",
    "plt.xlabel('Độ dài bài viết (số từ)')\n",
    "plt.ylabel('Số lượng bài viết')\n",
    "plt.title('Phân phối độ dài của các bài viết IELTS Writing Task 2')\n",
    "plt.show()\n",
    "\n",
    "# Tính toán độ dài trung bình của các bài viết\n",
    "average_length = sum(doc_lengths) / len(doc_lengths)\n",
    "print(f'Độ dài trung bình của các bài viết: {average_length}')\n"
   ]
  },
  {
   "cell_type": "code",
   "execution_count": 8,
   "metadata": {},
   "outputs": [
    {
     "name": "stdout",
     "output_type": "stream",
     "text": [
      "793\n"
     ]
    }
   ],
   "source": [
    "print(len(doc_lengths))"
   ]
  },
  {
   "cell_type": "code",
   "execution_count": 9,
   "metadata": {},
   "outputs": [],
   "source": [
    "# Lọc các bài viết rỗng \n",
    "filtered_essays = [essay for essay in essays if len(essay.strip()) > 0]"
   ]
  },
  {
   "cell_type": "code",
   "execution_count": 10,
   "metadata": {},
   "outputs": [
    {
     "name": "stdout",
     "output_type": "stream",
     "text": [
      "793\n"
     ]
    }
   ],
   "source": [
    "print(len(doc_lengths))"
   ]
  },
  {
   "cell_type": "code",
   "execution_count": 11,
   "metadata": {},
   "outputs": [
    {
     "name": "stdout",
     "output_type": "stream",
     "text": [
      "Độ dài trung bình của các bài viết phù hợp với giới hạn tối đa của GPT-2.\n"
     ]
    }
   ],
   "source": [
    "max_gpt2_tokens = 768\n",
    "if average_length <= max_gpt2_tokens:\n",
    "    print(\"Độ dài trung bình của các bài viết phù hợp với giới hạn tối đa của GPT-2.\")\n",
    "else:\n",
    "    print(\"Độ dài trung bình của các bài viết vượt quá giới hạn tối đa của GPT-2.\")\n"
   ]
  },
  {
   "cell_type": "code",
   "execution_count": 12,
   "metadata": {},
   "outputs": [
    {
     "name": "stdout",
     "output_type": "stream",
     "text": [
      "bos_token: <|startoftext|>, eos_token: <|endoftext|>\n"
     ]
    }
   ],
   "source": [
    "tokenizer = GPT2Tokenizer.from_pretrained('gpt2', bos_token='<|startoftext|>', eos_token='<|endoftext|>', pad_token='<|pad|>')\n",
    "\n",
    "if tokenizer.pad_token is None:\n",
    "    tokenizer.pad_token = tokenizer.eos_token\n",
    "\n",
    "print(f'bos_token: {tokenizer.bos_token}, eos_token: {tokenizer.eos_token}')"
   ]
  },
  {
   "cell_type": "code",
   "execution_count": 14,
   "metadata": {},
   "outputs": [],
   "source": [
    "class GPT2Dataset(Dataset):\n",
    "\n",
    "    def __init__(self, txt_list, tokenizer, gpt2_type=\"gpt2\", max_length=768):\n",
    "        self.tokenizer = tokenizer\n",
    "        self.input_ids = []\n",
    "        self.attn_masks = []\n",
    "\n",
    "        for txt in txt_list:\n",
    "            if len(txt.strip()) > 0: \n",
    "                encodings_dict = tokenizer(\n",
    "                    txt, \n",
    "                    truncation=True, \n",
    "                    max_length=max_length, \n",
    "                    padding=\"max_length\"\n",
    "                )\n",
    "\n",
    "                self.input_ids.append(torch.tensor(encodings_dict['input_ids']))\n",
    "                self.attn_masks.append(torch.tensor(encodings_dict['attention_mask']))\n",
    "\n",
    "    def __len__(self):\n",
    "        return len(self.input_ids)\n",
    "\n",
    "    def __getitem__(self, idx):\n",
    "        return self.input_ids[idx], self.attn_masks[idx]\n"
   ]
  },
  {
   "cell_type": "code",
   "execution_count": 15,
   "metadata": {},
   "outputs": [
    {
     "name": "stdout",
     "output_type": "stream",
     "text": [
      "  713 training samples\n",
      "   80 validation samples\n"
     ]
    }
   ],
   "source": [
    "# Tạo dataset từ danh sách các văn bản đã lọc\n",
    "dataset = GPT2Dataset(filtered_essays, tokenizer, max_length=768)\n",
    "\n",
    "# Chia tập huấn luyện và kiểm tra\n",
    "train_size = int(0.9 * len(dataset))\n",
    "val_size = len(dataset) - train_size\n",
    "\n",
    "train_dataset, val_dataset = random_split(dataset, [train_size, val_size])\n",
    "\n",
    "print('{:>5,} training samples'.format(train_size))\n",
    "print('{:>5,} validation samples'.format(val_size))"
   ]
  },
  {
   "cell_type": "code",
   "execution_count": 16,
   "metadata": {},
   "outputs": [],
   "source": [
    "# Đặt kích thước batch\n",
    "batch_size = 2"
   ]
  },
  {
   "cell_type": "code",
   "execution_count": 17,
   "metadata": {},
   "outputs": [
    {
     "name": "stdout",
     "output_type": "stream",
     "text": [
      "Training batch input_ids: tensor([[  464,  5798,   329,  ..., 50258, 50258, 50258],\n",
      "        [ 4366,   661,  1975,  ..., 50258, 50258, 50258]])\n",
      "Training batch attention_masks: tensor([[1, 1, 1,  ..., 0, 0, 0],\n",
      "        [1, 1, 1,  ..., 0, 0, 0]])\n",
      "Validation batch input_ids: tensor([[ 1026,   318,  4762,  ..., 50258, 50258, 50258],\n",
      "        [ 3844, 20544,    11,  ..., 50258, 50258, 50258]])\n",
      "Validation batch attention_masks: tensor([[1, 1, 1,  ..., 0, 0, 0],\n",
      "        [1, 1, 1,  ..., 0, 0, 0]])\n"
     ]
    }
   ],
   "source": [
    "# Tạo DataLoader cho các tập huấn luyện và kiểm tra\n",
    "train_dataloader = DataLoader(\n",
    "    train_dataset,  \n",
    "    sampler=RandomSampler(train_dataset),  \n",
    "    batch_size=batch_size\n",
    ")\n",
    "\n",
    "validation_dataloader = DataLoader(\n",
    "    val_dataset,  \n",
    "    sampler=SequentialSampler(val_dataset), \n",
    "    batch_size=batch_size  \n",
    ")\n",
    "\n",
    "# Kiểm tra dữ liệu từ train_dataloader và validation_dataloader\n",
    "for batch in train_dataloader:\n",
    "    input_ids, attn_masks = batch\n",
    "    print(\"Training batch input_ids:\", input_ids)\n",
    "    print(\"Training batch attention_masks:\", attn_masks)\n",
    "    break\n",
    "\n",
    "for batch in validation_dataloader:\n",
    "    input_ids, attn_masks = batch\n",
    "    print(\"Validation batch input_ids:\", input_ids)\n",
    "    print(\"Validation batch attention_masks:\", attn_masks)\n",
    "    break"
   ]
  },
  {
   "cell_type": "markdown",
   "metadata": {},
   "source": [
    "#### Setting up for FineTune"
   ]
  },
  {
   "cell_type": "code",
   "execution_count": 18,
   "metadata": {},
   "outputs": [],
   "source": [
    "# Đặt config của model\n",
    "configuration = GPT2Config.from_pretrained('gpt2', output_hidden_states=False)\n",
    "\n",
    "# Khởi tạo model\n",
    "model = GPT2LMHeadModel.from_pretrained(\"gpt2\", config=configuration)\n",
    "\n",
    "# Điều chỉnh kích thước embedding của mô hình để phù hợp với tokenizer\n",
    "model.resize_token_embeddings(len(tokenizer))\n",
    "\n",
    "# Thiết lập thiết bị để sử dụng GPU \n",
    "device = torch.device(\"cuda:1\" if torch.cuda.is_available() else \"cpu\")\n",
    "model.to(device)\n",
    "\n",
    "# Đặt giá trị seed \n",
    "seed_val = 42\n",
    "random.seed(seed_val)\n",
    "np.random.seed(seed_val)\n",
    "torch.manual_seed(seed_val)\n",
    "torch.cuda.manual_seed_all(seed_val)"
   ]
  },
  {
   "cell_type": "code",
   "execution_count": 19,
   "metadata": {},
   "outputs": [],
   "source": [
    "# Parameters for training\n",
    "epochs = 2\n",
    "learning_rate = 5e-4\n",
    "warmup_steps = 1e2\n",
    "epsilon = 1e-8\n",
    "sample_every = 100"
   ]
  },
  {
   "cell_type": "code",
   "execution_count": 20,
   "metadata": {},
   "outputs": [
    {
     "name": "stderr",
     "output_type": "stream",
     "text": [
      "/workspace/ai_intern/anaconda3/envs/kyky/lib/python3.9/site-packages/transformers/optimization.py:591: FutureWarning: This implementation of AdamW is deprecated and will be removed in a future version. Use the PyTorch implementation torch.optim.AdamW instead, or set `no_deprecation_warning=True` to disable this warning\n",
      "  warnings.warn(\n"
     ]
    }
   ],
   "source": [
    "# Khởi tạo optimizer\n",
    "optimizer = AdamW(model.parameters(), lr=learning_rate, eps=epsilon)"
   ]
  },
  {
   "cell_type": "markdown",
   "metadata": {},
   "source": [
    "#### FineTune GPT2 for IELTS Writing Task 2"
   ]
  },
  {
   "cell_type": "code",
   "execution_count": 21,
   "metadata": {},
   "outputs": [
    {
     "name": "stdout",
     "output_type": "stream",
     "text": [
      "\n",
      "======== Epoch 1 / 2 ========\n",
      "Training...\n"
     ]
    },
    {
     "name": "stderr",
     "output_type": "stream",
     "text": [
      "The attention mask is not set and cannot be inferred from input because pad token is same as eos token.As a consequence, you may observe unexpected behavior. Please pass your input's `attention_mask` to obtain reliable results.\n"
     ]
    },
    {
     "name": "stdout",
     "output_type": "stream",
     "text": [
      "  Batch   100  of    357. Loss: 1.7621362209320068.   Elapsed: 0:00:34.\n",
      "0:  bipartisan and politically correct.\n",
      "\n",
      "If I have a long and long stay for such and such and such and such I will see them live on, I will not see them live on, but I will have a long stay after a long stay. If I have a long and long stay, I will see them live on, but I will not be able to see them live on, especially if I have an emergency, so I will have to leave them.\n",
      "\n",
      "If I leave a long stay on an emergency, then I will see them live on, but I will not be able to see them live on, particularly if I have an emergency. I will see them live on, but I will not be able to see them live on, especially if my emergency condition affects my family as well as the children.\n",
      "\n",
      "If I leave some other reason, then I will see them live on, but I will not be able to see them live on, because my family members can't\n",
      "  Batch   200  of    357. Loss: 1.9244252443313599.   Elapsed: 0:00:53.\n",
      "0:  increasing the use of technology to communicate effectively for a variety of activities, such as communication in the air and water, and the transmission of information to and from individuals to other individuals. These measures have important considerations on the human personality. Firstly, they are also useful for understanding other people's lives, as both individuals and individuals are constantly aware of their personal experiences. Secondly, technology has helped to prepare individuals to take responsibility for certain social activities. This, however, could also be useful for some individuals to have a greater autonomy in choosing their own activities. This could not be true for others, as some people are also quite selfish in doing so. Thus, some people may seem to be too self-centered in taking responsibility for their personal activities without having the ability to do so. Thus, some people may not even have the ability to handle this responsibility properly. Thirdly, it is true that the technology provides information which can communicate effectively to people who use it. Therefore, they can be better informed\n",
      "  Batch   300  of    357. Loss: 1.7811757326126099.   Elapsed: 0:01:10.\n",
      "0: day is the point where people live longer days than they used to be.\n",
      "The day when people live longer than they used to be is also the day that there are more days off.\n",
      "When people travel a long distance the time spent in hotels is the most important time.\n",
      "However, in the long run it can be difficult to get to good enough places for people to live longer.\n",
      "The main factor is how much time spent in the town.\n",
      "Some hotels and public places tend to be busy hours because people spend a lot of time travelling.\n",
      "In fact many hotels and public places have become a more crowded place since people do not stay at home enough.\n",
      "On the other hand, some cities tend to make these days extra busy because people come and stay the more time people have to spend at the establishments, whereas in some cities in other parts of the world such as Japan, India, Australia and Dubai I believe that this is not a true argument, even though it is indeed\n",
      "\n",
      "  Average training loss: 3.06\n",
      "  Training epoch took: 0:01:20\n",
      "\n",
      "Running Validation...\n",
      "  Validation Loss: 1.65\n",
      "  Validation took: 0:00:02\n",
      "\n",
      "======== Epoch 2 / 2 ========\n",
      "Training...\n",
      "  Batch   100  of    357. Loss: 1.3430768251419067.   Elapsed: 0:00:15.\n",
      "0:  Hang a essay with a conclusion or argument. It can help you decide where to go next in this essay or in another essay. As a general rule, I feel better about the essay because I can't ignore the fact that I think the essay is really written to improve my career path. A good essay is helpful in achieving better employment and also helps us to develop a sense of belonging to the community. There are plenty of ways to achieve this. There are examples in different cultures around the world, but I want to highlight some examples. A good essay will give you a good understanding of the meaning of an essay and makes you feel comfortable about your position in the community. I also recommend that people start using the written word when they get their chance and understand what essay is meant to say. It is so important that everyone know what essay is meant to say.\n",
      "Another helpful essay is, in part, encouraging people to get a good sense of belonging to the community. In addition, it is\n",
      "  Batch   200  of    357. Loss: 1.5843430757522583.   Elapsed: 0:00:32.\n",
      "0:  foods, and foods with a high fat content. Furthermore, there are various types of foods available on the market which are generally not healthy and require frequent and intensive cooking. In my opinion, most of the foods are low fat and contain low fat-based foods, like fruit and vegetables. This could be said to reduce the risk of obesity as we can easily replace whole fruits and vegetables with fresh and fresh. In addition, some people prefer to purchase whole fruits and vegetables.\n",
      "The advantages of using a low fat diet are obvious. It's easy to eat healthy, so that's why it has a high fat content. Also, the foods are rich in fats, which means that they are more nutritious than conventional foods and contain more protein. Therefore, many people use a high-end fat diet as a healthy substitute for traditional foods. Moreover, consuming high-quality fats improves the quality of the food. Moreover, fats contain less fats, so that they may not get any harmful effects from their\n",
      "  Batch   300  of    357. Loss: 1.4684112071990967.   Elapsed: 0:00:49.\n",
      "0:  trail has seen a dramatic change in the human race in recent times. This essay will discuss how the recent evolution of technology is driving the advancement of human medicine and its role in the advancement of health and well-being of human beings. In my opinion, this change is a great achievement for medicine because it changes the way we live in our daily lives and so many people are now willing to accept that they may suffer from serious medical issues.\n",
      "At the root of this change is the discovery of new technologies which allow us to treat diseases better or prevent diseases at lower risk for future generations. This technology is used in many different areas which have been exploring, such as education, medicine, and medicine. In my view, it enables human health care professionals to discover new technologies which will help us to treat and prevent diseases that are at present threatening our lives. This new technology will allow us to discover new and new treatments in a much brighter manner, which will help us be more willing to follow the natural\n",
      "\n",
      "  Average training loss: 1.55\n",
      "  Training epoch took: 0:00:59\n",
      "\n",
      "Running Validation...\n",
      "  Validation Loss: 1.62\n",
      "  Validation took: 0:00:02\n",
      "\n",
      "Training complete!\n",
      "Total training took 0:02:23 (h:mm:ss)\n"
     ]
    }
   ],
   "source": [
    "# Tổng số bước training\n",
    "total_steps = len(train_dataloader) * epochs\n",
    "\n",
    "# Khởi tạo scheduler để điều chỉnh learning rate\n",
    "scheduler = get_linear_schedule_with_warmup(optimizer, num_warmup_steps=warmup_steps, num_training_steps=total_steps)\n",
    "\n",
    "def format_time(elapsed):\n",
    "    return str(datetime.timedelta(seconds=int(round((elapsed)))))\n",
    "\n",
    "total_t0 = time.time()\n",
    "\n",
    "training_stats = []\n",
    "\n",
    "model = model.to(device)\n",
    "\n",
    "for epoch_i in range(0, epochs):\n",
    "\n",
    "    # ========================================\n",
    "    #               Training\n",
    "    # ========================================\n",
    "\n",
    "    print(\"\")\n",
    "    print('======== Epoch {:} / {:} ========'.format(epoch_i + 1, epochs))\n",
    "    print('Training...')\n",
    "\n",
    "    t0 = time.time()\n",
    "\n",
    "    total_train_loss = 0\n",
    "\n",
    "    model.train()\n",
    "\n",
    "    for step, batch in enumerate(train_dataloader):\n",
    "\n",
    "        b_input_ids = batch[0].to(device)\n",
    "        b_labels = batch[0].to(device)\n",
    "        b_masks = batch[1].to(device)\n",
    "\n",
    "        model.zero_grad()\n",
    "\n",
    "        outputs = model(b_input_ids, labels=b_labels, attention_mask=b_masks, token_type_ids=None)\n",
    "\n",
    "        loss = outputs[0]\n",
    "\n",
    "        batch_loss = loss.item()\n",
    "        total_train_loss += batch_loss\n",
    "\n",
    "        # In ra sample output mỗi 100 bước\n",
    "        if step % sample_every == 0 and not step == 0:\n",
    "            elapsed = format_time(time.time() - t0)\n",
    "            print('  Batch {:>5,}  of  {:>5,}. Loss: {:>5,}.   Elapsed: {:}.'.format(step, len(train_dataloader), batch_loss, elapsed))\n",
    "\n",
    "            model.eval()\n",
    "\n",
    "            sample_outputs = model.generate(\n",
    "                                    bos_token_id=random.randint(1,30000),\n",
    "                                    do_sample=True,\n",
    "                                    top_k=50, \n",
    "                                    max_length=200,\n",
    "                                    top_p=0.95,\n",
    "                                    num_return_sequences=1,\n",
    "                                    pad_token_id=tokenizer.eos_token_id\n",
    "                                )\n",
    "            for i, sample_output in enumerate(sample_outputs):\n",
    "                print(\"{}: {}\".format(i, tokenizer.decode(sample_output, skip_special_tokens=True)))\n",
    "\n",
    "            model.train()\n",
    "\n",
    "        loss.backward()\n",
    "\n",
    "        optimizer.step()\n",
    "        scheduler.step()\n",
    "\n",
    "    avg_train_loss = total_train_loss / len(train_dataloader)\n",
    "    training_time = format_time(time.time() - t0)\n",
    "\n",
    "    print(\"\")\n",
    "    print(\"  Average training loss: {0:.2f}\".format(avg_train_loss))\n",
    "    print(\"  Training epoch took: {:}\".format(training_time))\n",
    "\n",
    "    # ========================================\n",
    "    #               Validation\n",
    "    # ========================================\n",
    "\n",
    "    print(\"\")\n",
    "    print(\"Running Validation...\")\n",
    "\n",
    "    t0 = time.time()\n",
    "\n",
    "    model.eval()\n",
    "\n",
    "    total_eval_loss = 0\n",
    "    nb_eval_steps = 0\n",
    "\n",
    "    for batch in validation_dataloader:\n",
    "\n",
    "        b_input_ids = batch[0].to(device)\n",
    "        b_labels = batch[0].to(device)\n",
    "        b_masks = batch[1].to(device)\n",
    "\n",
    "        with torch.no_grad():\n",
    "            outputs = model(b_input_ids, attention_mask=b_masks, labels=b_labels)\n",
    "\n",
    "            loss = outputs[0]\n",
    "\n",
    "        batch_loss = loss.item()\n",
    "        total_eval_loss += batch_loss\n",
    "\n",
    "    avg_val_loss = total_eval_loss / len(validation_dataloader)\n",
    "    validation_time = format_time(time.time() - t0)\n",
    "\n",
    "    print(\"  Validation Loss: {0:.2f}\".format(avg_val_loss))\n",
    "    print(\"  Validation took: {:}\".format(validation_time))\n",
    "\n",
    "    training_stats.append({\n",
    "        'epoch': epoch_i + 1,\n",
    "        'Training Loss': avg_train_loss,\n",
    "        'Valid. Loss': avg_val_loss,\n",
    "        'Training Time': training_time,\n",
    "        'Validation Time': validation_time\n",
    "    })\n",
    "\n",
    "print(\"\")\n",
    "print(\"Training complete!\")\n",
    "print(\"Total training took {:} (h:mm:ss)\".format(format_time(time.time()-total_t0)))"
   ]
  },
  {
   "cell_type": "markdown",
   "metadata": {},
   "source": [
    "#### Summarize training process"
   ]
  },
  {
   "cell_type": "code",
   "execution_count": 22,
   "metadata": {},
   "outputs": [
    {
     "name": "stdout",
     "output_type": "stream",
     "text": [
      "       Training Loss  Valid. Loss Training Time Validation Time\n",
      "epoch                                                          \n",
      "1           3.060274     1.648275       0:01:20         0:00:02\n",
      "2           1.549128     1.621119       0:00:59         0:00:02\n"
     ]
    },
    {
     "data": {
      "image/png": "[encoded data removed]",
      "text/plain": [
       "<Figure size 1200x600 with 1 Axes>"
      ]
     },
     "metadata": {},
     "output_type": "display_data"
    }
   ],
   "source": [
    "import pandas as pd\n",
    "import matplotlib.pyplot as plt\n",
    "\n",
    "# Lấy chữ số thập phân là hai chữ số.\n",
    "pd.options.display.float_format = '{:.6f}'.format\n",
    "\n",
    "# Tạo DataFrame từ danh sách các thống kê huấn luyện.\n",
    "df_stats = pd.DataFrame(data=training_stats)\n",
    "\n",
    "# Sử dụng 'epoch' làm chỉ số hàng.\n",
    "df_stats = df_stats.set_index('epoch')\n",
    "\n",
    "print(df_stats)\n",
    "\n",
    "plt.figure(figsize=(12, 6))\n",
    "plt.plot(df_stats['Training Loss'], 'b-o', label='Training Loss')\n",
    "plt.plot(df_stats['Valid. Loss'], 'g-o', label='Validation Loss')\n",
    "plt.title('Training & Validation Loss')\n",
    "plt.xlabel('Epoch')\n",
    "plt.ylabel('Loss')\n",
    "plt.legend()\n",
    "plt.grid(True)\n",
    "plt.show()\n",
    "\n"
   ]
  },
  {
   "cell_type": "code",
   "execution_count": 23,
   "metadata": {},
   "outputs": [
    {
     "name": "stdout",
     "output_type": "stream",
     "text": [
      "The GPT-2 model has 148 different named parameters.\n",
      "\n",
      "==== Embedding Layer ====\n",
      "\n",
      "transformer.wte.weight                                  (50257, 768)\n",
      "transformer.wpe.weight                                   (1024, 768)\n",
      "\n",
      "==== First Transformer ====\n",
      "\n",
      "transformer.h.0.ln_1.weight                                   (768,)\n",
      "transformer.h.0.ln_1.bias                                     (768,)\n",
      "transformer.h.0.attn.c_attn.weight                       (768, 2304)\n",
      "transformer.h.0.attn.c_attn.bias                             (2304,)\n",
      "transformer.h.0.attn.c_proj.weight                        (768, 768)\n",
      "transformer.h.0.attn.c_proj.bias                              (768,)\n",
      "transformer.h.0.ln_2.weight                                   (768,)\n",
      "transformer.h.0.ln_2.bias                                     (768,)\n",
      "transformer.h.0.mlp.c_fc.weight                          (768, 3072)\n",
      "transformer.h.0.mlp.c_fc.bias                                (3072,)\n",
      "transformer.h.0.mlp.c_proj.weight                        (3072, 768)\n",
      "transformer.h.0.mlp.c_proj.bias                               (768,)\n",
      "\n",
      "==== Output Layer ====\n",
      "\n",
      "transformer.ln_f.weight                                       (768,)\n",
      "transformer.ln_f.bias                                         (768,)\n"
     ]
    }
   ],
   "source": [
    "# Khởi tạo mô hình\n",
    "model = GPT2LMHeadModel.from_pretrained(\"gpt2\")\n",
    "\n",
    "# Get all of the model's parameters as a list of tuples.\n",
    "params = list(model.named_parameters())\n",
    "\n",
    "print('The GPT-2 model has {:} different named parameters.\\n'.format(len(params)))\n",
    "\n",
    "print('==== Embedding Layer ====\\n')\n",
    "\n",
    "for p in params[0:2]:\n",
    "    print(\"{:<55} {:>12}\".format(p[0], str(tuple(p[1].size()))))\n",
    "\n",
    "print('\\n==== First Transformer ====\\n')\n",
    "\n",
    "for p in params[2:14]:\n",
    "    print(\"{:<55} {:>12}\".format(p[0], str(tuple(p[1].size()))))\n",
    "\n",
    "print('\\n==== Output Layer ====\\n')\n",
    "\n",
    "for p in params[-2:]:\n",
    "    print(\"{:<55} {:>12}\".format(p[0], str(tuple(p[1].size()))))\n"
   ]
  },
  {
   "cell_type": "code",
   "execution_count": 24,
   "metadata": {},
   "outputs": [
    {
     "name": "stdout",
     "output_type": "stream",
     "text": [
      "Saving model to ./model_save/\n"
     ]
    },
    {
     "data": {
      "text/plain": [
       "('./model_save/tokenizer_config.json',\n",
       " './model_save/special_tokens_map.json',\n",
       " './model_save/vocab.json',\n",
       " './model_save/merges.txt',\n",
       " './model_save/added_tokens.json')"
      ]
     },
     "execution_count": 24,
     "metadata": {},
     "output_type": "execute_result"
    }
   ],
   "source": [
    "import os\n",
    "from transformers import GPT2LMHeadModel, GPT2Tokenizer\n",
    "\n",
    "# Đặt đường dẫn để lưu mô hình\n",
    "output_dir = './model_save/'\n",
    "\n",
    "# Tạo thư mục nếu chưa tồn tại\n",
    "if not os.path.exists(output_dir):\n",
    "    os.makedirs(output_dir)\n",
    "\n",
    "print(\"Saving model to %s\" % output_dir)\n",
    "\n",
    "# Lưu mô hình đã được huấn luyện, cấu hình và tokenizer sử dụng `save_pretrained()`\n",
    "model_to_save = model.module if hasattr(model, 'module') else model  # Take care of distributed/parallel training\n",
    "model_to_save.save_pretrained(output_dir)\n",
    "tokenizer.save_pretrained(output_dir)\n",
    "\n",
    "# Lưu các đối số huấn luyện cùng với mô hình đã được huấn luyện (tùy chọn)\n",
    "# torch.save(args, os.path.join(output_dir, 'training_args.bin'))\n"
   ]
  },
  {
   "cell_type": "markdown",
   "metadata": {},
   "source": [
    "#### Generate IELTS writing task2"
   ]
  },
  {
   "cell_type": "code",
   "execution_count": 3,
   "metadata": {},
   "outputs": [
    {
     "name": "stdout",
     "output_type": "stream",
     "text": [
      "Loading model from ./model_save/\n"
     ]
    },
    {
     "name": "stderr",
     "output_type": "stream",
     "text": [
      "Special tokens have been added in the vocabulary, make sure the associated word embeddings are fine-tuned or trained.\n"
     ]
    },
    {
     "name": "stdout",
     "output_type": "stream",
     "text": [
      "Essay 1:\n",
      "In recent years, the impact of technology on society has been a topic of debate.\n",
      "\n",
      "Discuss the advantages and disadvantages of technology in modern life. In recent months, there has also been an increasing number of studies that highlight the effects of technological change on the health of persons and families.\n",
      "\n",
      "But the debate about whether technological advancement brings about the best outcomes remains not without serious problems.\n",
      "\n",
      "In the first five years of the millennium, we recorded a decline in mortality among men and the decrease in death and disability among women from mortality rates over 1 year.\n",
      "\n",
      "This trend is reflected in the observed change in birth rates (19%) and in rates of disability (11%) compared with the same period in 1996.\n",
      "\n",
      "The data suggest that the number and quality of care provided by health facilities are significantly lower during the time of economic changes such as health inflation, social unrest and rising rates for women.\n",
      "\n",
      "One important finding, for whom medical technology has recently made new advances, is that women who have the greatest need for physical activity have more leisure time.\n",
      "\n",
      "However, although women experience greater mortality, they also have an increased number, especially in women with a high risk for high blood pressure.\n",
      "\n",
      "These are especially the case among those of children, who also experience higher mortality as a result of a lack of maternal education.\n",
      "\n",
      "Furthermore, since the beginning of our study period, new technologies such that allow people to travel at high speeds and change the behavior of other people has resulted in increased access to medical services, including care for patients without respiratory\n",
      "\n",
      "Essay 2:\n",
      "In recent years, the impact of technology on society has been a topic of debate.\n",
      "\n",
      "Discuss the advantages and disadvantages of technology in modern life. Use and use of social media in today's society.\n",
      "\n",
      "Use and Use of Technology in Modern Life , which started in the middle of 2013, is one such type of web site that has come to the attention of authorities.\n",
      "\n",
      "According to a study conducted by the NGO New York, there is a risk of being victimized by an attacker.\n",
      "\n",
      "It is estimated that about 90 percent of Internet users are vulnerable to online attack.\n",
      "\n",
      "But the social-media industry has recently been targeted and cyber-attacks are at their peak.\n",
      "\n",
      "The social networking services and websites are not a new problem. There is something more complex and interesting to watch.\n",
      "\n",
      "In 2014, some states enacted bills to ban and even prohibit the use and access of such social networks.\n",
      "\n",
      "On May 15, 2017, a man attacked and kidnapped a group of school students while playing soccer at the school in Gurgaon, India.\n",
      "\n",
      "Police claimed that the victim, who identified himself as Shabana, was attacked after attempting to cross the street.\n",
      "\n",
      "Two days later, five police officers were fired on, leaving one of the victims with multiple gunshot wounds.\n",
      "\n",
      "After the three officers had been shot, and after a forensic examination, they released a statement saying that Shabsa had murdered the other student.\n",
      "\n",
      "Authorities also arrested a student in connection with the attack as he allegedly tried to take the girl's mobile phone after\n",
      "\n",
      "Generated essays have been saved to generated_essays.txt\n"
     ]
    }
   ],
   "source": [
    "import torch\n",
    "from transformers import GPT2LMHeadModel, GPT2Tokenizer\n",
    "import os\n",
    "\n",
    "output_dir = './model_save/'\n",
    "\n",
    "print(\"Loading model from %s\" % output_dir)\n",
    "\n",
    "# Tải lại mô hình đã được lưu\n",
    "model = GPT2LMHeadModel.from_pretrained(output_dir)\n",
    "tokenizer = GPT2Tokenizer.from_pretrained(output_dir)\n",
    "\n",
    "device = torch.device(\"cuda:0\" if torch.cuda.is_available() else \"cpu\")\n",
    "model.to(device)\n",
    "\n",
    "# Hàm để sinh ra văn bản\n",
    "def generate_essay(prompt, model, tokenizer, max_length=200, num_return_sequences=1):\n",
    "    model.eval()\n",
    "    \n",
    "    # Tokenize đầu vào\n",
    "    input_ids = tokenizer.encode(prompt, return_tensors='pt').to(device)\n",
    "    \n",
    "    # Sinh ra văn bản\n",
    "    with torch.no_grad():\n",
    "        outputs = model.generate(\n",
    "            input_ids=input_ids,\n",
    "            max_length=max_length,\n",
    "            num_return_sequences=num_return_sequences,\n",
    "            no_repeat_ngram_size=2,\n",
    "            top_k=50,\n",
    "            top_p=0.95,\n",
    "            temperature=1.0,\n",
    "            do_sample=True,\n",
    "            pad_token_id=tokenizer.eos_token_id\n",
    "        )\n",
    "    \n",
    "    essays = [tokenizer.decode(output, skip_special_tokens=True) for output in outputs]\n",
    "    return essays\n",
    "\n",
    "# Hàm định dạng văn bản cho dễ đọc\n",
    "def format_essay(essay, max_sentence_length=80):\n",
    "    words = essay.split()\n",
    "    formatted_essay = []\n",
    "    current_paragraph = []\n",
    "    current_length = 0\n",
    "\n",
    "    for word in words:\n",
    "        current_length += len(word) + 1\n",
    "        current_paragraph.append(word)\n",
    "        \n",
    "        if '.' in word and current_length >= max_sentence_length:\n",
    "            formatted_essay.append(' '.join(current_paragraph))\n",
    "            current_paragraph = []\n",
    "            current_length = 0\n",
    "    \n",
    "    if current_paragraph:\n",
    "        formatted_essay.append(' '.join(current_paragraph))\n",
    "    \n",
    "    return '\\n\\n'.join(formatted_essay)\n",
    "\n",
    "# Ví dụ prompt để sinh ra bài viết IELTS\n",
    "prompt = \"In recent years, the impact of technology on society has been a topic of debate. Discuss the advantages and disadvantages of technology in modern life.\"\n",
    "\n",
    "essays = generate_essay(prompt, model, tokenizer, max_length=300, num_return_sequences=2)\n",
    "\n",
    "for i, essay in enumerate(essays):\n",
    "    formatted_essay = format_essay(essay)\n",
    "    print(f\"Essay {i + 1}:\\n{formatted_essay}\\n\")\n",
    "\n",
    "# Lưu kết quả vào file\n",
    "output_file = \"generated_essays.txt\"\n",
    "with open(output_file, 'w', encoding='utf-8') as f:\n",
    "    for i, essay in enumerate(essays):\n",
    "        formatted_essay = format_essay(essay)\n",
    "        f.write(f\"Essay {i + 1}:\\n{formatted_essay}\\n\\n\")\n",
    "print(f\"Generated essays have been saved to {output_file}\")\n",
    "\n",
    "\n"
   ]
  }
 ],
 "metadata": {
  "kernelspec": {
   "display_name": "kyky",
   "language": "python",
   "name": "python3"
  },
  "language_info": {
   "codemirror_mode": {
    "name": "ipython",
    "version": 3
   },
   "file_extension": ".py",
   "mimetype": "text/x-python",
   "name": "python",
   "nbconvert_exporter": "python",
   "pygments_lexer": "ipython3",
   "version": "3.9.19"
  }
 },
 "nbformat": 4,
 "nbformat_minor": 2
}
